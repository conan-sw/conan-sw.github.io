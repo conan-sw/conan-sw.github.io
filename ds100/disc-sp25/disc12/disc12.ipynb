{
 "cells": [
  {
   "cell_type": "raw",
   "metadata": {
    "vscode": {
     "languageId": "raw"
    }
   },
   "source": [
    "---\n",
    "title: \"PCA + Clustering\"\n",
    "execute:\n",
    "  echo: true\n",
    "format:\n",
    "  html:\n",
    "    code-fold: true\n",
    "    code-tools: true\n",
    "    toc: true\n",
    "    toc-title: \"PCA + Clustering\"\n",
    "    page-layout: full\n",
    "    theme:\n",
    "      - cosmo\n",
    "      - cerulean\n",
    "    callout-icon: false\n",
    "jupyter:\n",
    "  jupytext:\n",
    "    text_representation:\n",
    "      extension: .qmd\n",
    "      format_name: quarto\n",
    "      format_version: '1.0'\n",
    "      jupytext_version: 1.16.1\n",
    "  kernelspec:\n",
    "    display_name: data100quarto\n",
    "    language: python\n",
    "    name: python3\n",
    "---"
   ]
  },
  {
   "cell_type": "markdown",
   "metadata": {},
   "source": [
    "## [Link to Slides](https://docs.google.com/presentation/d/17veSqEg53zEslVsYJN9jA5l9_ZwIZaUBFDd7DDFOG4k/edit?usp=sharing)\n",
    "\n",
    "::: {.callout-note}\n",
    "\n",
    "**Terminology:** The notation used for PCA starting from Spring 2024 differs from previous semesters a bit.\n",
    "\n",
    "1. Principal Component: The columns of $V$. These vectors specify the principal coordinate system and represent the directions along which the most variance in the data is captured.\n",
    "2. Latent Vector Representation of X: The projection of our data matrix $X$ onto the principal components, $Z = XV = US$ (as denoted in lecture). The columns of $Z$ are called latent factors or component scores. In previous semesters, the terminology was different and this was termed the principal components of $X$.\n",
    "3. $S$ (as in SVD): The diagonal matrix containing all the singular values of $X$. \n",
    "4. $\\Sigma$ : The covariance matrix of $X$. Assuming $X$ is centered, $\\Sigma = X^T X$. In previous semesters, the singular value decomposition of $X$ was written out as $X=U \\Sigma V^T$, but we now use $X=USV^T$. Note the difference between $\\Sigma$ in that context compared to this semester.\n",
    "\n",
    ":::\n"
   ]
  },
  {
   "cell_type": "markdown",
   "metadata": {},
   "source": [
    "## PCA Basics\n",
    "\n",
    "Consider the following dataset, where $X$ is the corresponding $4 \\times 3$ design matrix. The mean and variance for each of the features are also provided.\n",
    "\n",
    "<center>\n",
    "\n",
    "| Observations | Feature 1 | Feature 2 | Feature 3 |\n",
    "| :-: | :-: | :-: | :-: |\n",
    "| **1** | -3.59 | 7.39 | -0.78 |\n",
    "| **2** | -8.37 | -5.32 | 0.90 |\n",
    "| **3** | 1.75 | -0.61 | -0.62 |\n",
    "| **4** | 10.21 | -1.46 | 0.50 |\n",
    "| Mean | 0 | 0 | 0 |\n",
    "| Variance | 47.56 | 21.35 | 0.51 |\n",
    "\n",
    "</center>\n",
    "\n",
    "Suppose we perform a singular value decomposition (SVD) on this data to obtain $X = U S V^T$:\n",
    "\n",
    "**Note:** $U$ and $V^T$ are not perfectly orthonormal due to rounding to 2 decimal places.\n",
    "\n",
    "\\begin{align*}\n",
    "    U = \n",
    "    \\begin{bmatrix}\n",
    "        -0.25 & 0.81 & 0.20 \\\\\n",
    "        -0.61 & -0.56 & 0.24 \\\\\n",
    "        0.13 & -0.06 & -0.85 \\\\\n",
    "        0.74 & -0.18 & 0.41 \\\\\n",
    "    \\end{bmatrix}, \\qquad\n",
    "    S = \n",
    "    \\begin{bmatrix}\n",
    "        13.79 & 0 & 0 \\\\\n",
    "        0 & 9.32 & 0 \\\\\n",
    "        0 & 0 & 0.81 \\\\\n",
    "    \\end{bmatrix}, \\qquad\n",
    "    V^T = \n",
    "    \\begin{bmatrix}\n",
    "        1.00 & 0.02 & 0.00 \\\\\n",
    "        -0.02 &  0.99 & -0.13 \\\\\n",
    "        0.00 & 0.13 & 0.99 \\\\\n",
    "    \\end{bmatrix}\n",
    "\\end{align*}"
   ]
  },
  {
   "cell_type": "markdown",
   "metadata": {},
   "source": [
    "### (a)\n",
    "Recall that we define the columns of $V$ as the principal components. By projecting $X$ onto the principal components (i.e. computing $XV$), we can construct the latent vector representation of $X$. Alternatively, you can also calculate the latent vector representation using $US$. Using $X=USV^T$ prove that $XV = US$.\n",
    "\n",
    "<details>\n",
    "<summary><b>Answer</b></summary>\n",
    "\n",
    "Since $V$ is orthonormal, we know that $V^TV = I$. Starting with $X = U S V^T$, we right multiply by $V$ on both sides:\n",
    "    \n",
    "\\begin{align*}\n",
    "XV &= U S V^TV\\\\ \n",
    "&= U S I\\\\\n",
    "&= U S\n",
    "\\end{align*}\n",
    "\n",
    "</details>"
   ]
  },
  {
   "cell_type": "markdown",
   "metadata": {},
   "source": [
    "### (b)\n",
    "Compute the projection of $X$ onto the first principal component, also called the first latent factor (round to 2 decimal places).\n",
    "\n",
    "<details>\n",
    "<summary><b>Answer</b></summary>\n",
    "\n",
    "We compute the first latent factor by multiplying $X$ by the first row of $V^T$ to get $\\approx \\begin{bmatrix} -3.44 & -8.47 & 1.74 & 10.18 \\end{bmatrix}^T$ (your values may differ slightly due to rounding).\n",
    "        \n",
    "You can also compute the first latent factor by observing that $XV = U S$. Therefore, the first latent factor is also the first column of $U S$.\n",
    "\n",
    "</details>"
   ]
  },
  {
   "cell_type": "markdown",
   "metadata": {},
   "source": [
    "### (c)\n",
    "What is the component score of the first principal component? In other words, how much of the total variance of $X$ is captured by the first principal component?\n",
    "\n",
    "<details>\n",
    "<summary><b>Answer</b></summary>\n",
    "\n",
    "The variance captured by $i$-th principal component of the original data $X$  is equal to $$\\frac{(i\\text{-th singular value})^2}{\\text{number of observations } n}$$\n",
    "\n",
    "In this case, $n = 4$, and $s_1 = 13.79$. Therefore, the component score can be computed as follows:\n",
    "\n",
    "$$\\frac{13.79^2}{4} = 47.54$$\n",
    "\n",
    "</details>"
   ]
  },
  {
   "cell_type": "markdown",
   "metadata": {},
   "source": [
    "### (d) (Bonus)\n",
    "Given the results of **(a)**, how can we interpret the rows of $V^T$? What do the values in these rows represent?\n",
    "\n",
    "<details>\n",
    "<summary><b>Answer</b></summary>\n",
    "\n",
    "The rows of $V^T$ are the same as the columns of $V$ which we know are the principal components of $X$. Each latent factor of $X$ is a linear combination of $X$'s features. The rows of $V^T$ correspond to the weights of each feature in the linear combinations that make up their respective latent factors.\n",
    "\n",
    "</details>"
   ]
  },
  {
   "cell_type": "markdown",
   "metadata": {},
   "source": [
    "## Applications of PCA\n",
    "\n",
    "Minoli wants to apply PCA to `food_PCA`, a dataset of food nutrition information to understand the different food groups.\n",
    "\n",
    "<center><img src=\"images/food.png\" width=\"500\"></img></center>\n",
    "\n",
    "She needs to preprocess her current dataset in order to use PCA."
   ]
  },
  {
   "cell_type": "markdown",
   "metadata": {},
   "source": [
    "### (a)\n",
    "\n",
    "Which of the following are appropriate preprocessing steps when performing PCA on a dataset? \n",
    "\n",
    "$\\Box$ Transform each row to have a magnitude of 1 (Normalization)\n",
    "\n",
    "$\\Box$ Transform each column to have a mean of 0 (Centering)\n",
    "\n",
    "$\\Box$ Transform each column to have a mean of 0 and a standard deviation of 1 (Standardization)\n",
    "\n",
    "$\\Box$ None of the above\n",
    "\n",
    "<details>\n",
    "<summary><b>Answer</b></summary>\n",
    "\n",
    "* Transform each column to have a mean of 0 (Centering)\n",
    "\n",
    "* Transform each column to have a mean of 0 and a standard deviation of 1 (Standardization)\n",
    "\n",
    "We can use standardization or centering of the columns for PCA, since each column contains values of a particular feature for many observations. Standardization ensures that the standard deviation of each collection of feature values is $1$, so that the variability in each feature across the data points is on a uniform scale. Additionally, we cannot compute the covariance matrix correctly using SVD if the feature columns are not centered with mean 0. Choice (A) is incorrect because it doesn't really make sense to preprocess by row in PCA, since PCA is all about finding combinations of features (columns) as opposed to rows.\n",
    "\n",
    "</details>"
   ]
  },
  {
   "cell_type": "markdown",
   "metadata": {},
   "source": [
    "### (b)\n",
    "\n",
    "Assume you have correctly preprocessed your data using the correct response in part (a). Write a line of code that returns the first 3 latent factors assuming you have the correctly preprocessed `food_PCA` and the following variables returned by SVD.\n",
    "\n",
    "`u, s, vt = np.linalg.svd(food_PCA, full_matrices = False)`\n",
    "\n",
    "`first_3_latent_factors = ___________`\n",
    "\n",
    "<details>\n",
    "<summary><b>Answer</b></summary>\n",
    "\n",
    "`X @ vt.T[:, :3]`\n",
    "\n",
    "It is also possible to use `U` and `S` instead, although it may be a little more complicated that way.\n",
    "\n",
    "Note the following operators:\n",
    "\n",
    "* **@** for matrix multiplication\n",
    "* **.T** to transpose\n",
    "\n",
    "</details>"
   ]
  },
  {
   "cell_type": "markdown",
   "metadata": {},
   "source": [
    "### (c)\n",
    "\n",
    "The scree plot below depicts the proportion of variance captured by each principal component\n",
    "\n",
    "<center><img src=\"images/scree_plot.png\" width=\"500\"></center>\n",
    "\n",
    "Which of the following lines of code could have created the plot above?\n",
    "\n",
    "$\\bigcirc$ `plt.plot(s**2/np.sum(s**2), u)`\n",
    "\n",
    "$\\bigcirc$ `plt.plot(food_PCA[:, :7], s**2/np.sum(s))`\n",
    "\n",
    "$\\bigcirc$ `plt.plot(np.arange(1, food_PCA.shape[1]+1), s**2/np.sum(s**2))`\n",
    "\n",
    "$\\bigcirc$ `plt.plot(np.arange(1, food_PCA.shape[1]+1), s**2/np.sum(s))`\n",
    "\n",
    "$\\bigcirc$ `plt.plot(u@s, s**2/np.sum(s**2))`\n",
    "\n",
    "<details>\n",
    "<summary><b>Answer</b></summary>\n",
    "\n",
    "The variance captured by the $i$-th PC is given by $\\frac{s[i]^2}{n}$, where $n$ is the number of rows. Therefore, the *proportion* of variance captured by the $i$-th PC must be given by $$\\frac{\\frac{s[i]^2}{n}}{\\frac{\\text{np.sum}(s^2)}{n}}$$ Using `NumPy` operations, we can calculate the $y$-values as \n",
    "\n",
    "`s**2/np.sum(s**2)`.\n",
    "\n",
    "The corresponding $x$-values should run from 1 to the number of columns of \n",
    "\n",
    "`food_PCA`, which gives us `np.arange(1, food_PCA.shape[1]+1)`\n",
    "\n",
    "</details>"
   ]
  },
  {
   "cell_type": "markdown",
   "metadata": {},
   "source": [
    "### (d)\n",
    "\n",
    "Using the elbow method, how many principal components should we choose to represent the data? \n",
    "\n",
    "<details>\n",
    "<summary><b>Answer</b></summary>\n",
    "\n",
    "The elbow of a scree plot is the point where adding more principal components results in diminishing returns. In other words, we look for the \"elbow\" in the curve just before the line flattens out. This point is at PC 3 in the graph above, so we choose 3 as the number of principal components. \n",
    "\n",
    "Note that not all scree plots will have an obvious elbow. \n",
    "\n",
    "</details>"
   ]
  },
  {
   "cell_type": "markdown",
   "metadata": {},
   "source": [
    "## Interpreting PCA Plots\n",
    "\n",
    "Xiaorui has three datasets $A$, $B$, and $C \\in \\mathbb{R}^{100 \\times 2}$. That is, each dataset consists of 100 data points in two dimensions. He visualizes the datasets using scatterplots, labeled Plot A, Plot B, and Plot C, respectively:\n",
    "\n",
    "<center><img src=\"images/dis13_pca_plots.png\" width=\"600\"></center>\n",
    "\n",
    "### (a)\n",
    "\n",
    "If he applies PCA to each of the above datasets and uses only the first principal component, which dataset(s) would have the lowest reconstruction error? Select all that apply.\n",
    "\n",
    "$\\Box$ Dataset $A$\n",
    "\n",
    "$\\Box$ Dataset $B$\n",
    "\n",
    "$\\Box$ Dataset $C$\n",
    "\n",
    "$\\Box$ Cannot determine with the given information\n",
    "\n",
    "<details>\n",
    "<summary><b>Answer</b></summary>\n",
    "\n",
    "**Dataset $B$**\n",
    "\n",
    "Most of the variance in Plot B lies roughly about a single line. The variance captured by the second PC is far smaller in Plot B compared to plots A and C. In both Plot A and Plot C, there are significant amounts of variance in two orthogonal directions, so PC1 would not be able to capture as much of the total variance.\n",
    "\n",
    "Since we want to have the lowest reconstruction error while using only 1 PC, we pick Plot B.\n",
    "\n",
    "</details>"
   ]
  },
  {
   "cell_type": "markdown",
   "metadata": {},
   "source": [
    "### (b)\n",
    "\n",
    "If he applies PCA to each of the above datasets and uses the first two principal compo-\n",
    "nents, which dataset(s) would have the lowest reconstruction error? Select all that apply.\n",
    "\n",
    "$\\Box$ Dataset $A$\n",
    "\n",
    "$\\Box$ Dataset $B$\n",
    "\n",
    "$\\Box$ Dataset $C$\n",
    "\n",
    "$\\Box$ Cannot determine with the given information\n",
    "\n",
    "<details>\n",
    "<summary><b>Answer</b></summary>\n",
    "\n",
    "**Dataset $A$, Dataset $B$, Dataset $C$**\n",
    "\n",
    "Note that all 3 datasets have dimensions $100 \\times 2$. Using two principal components corresponds to using the full singular value decomposition of $X$, so we can perfectly reconstruct it. The sum of the variance captured by each PC will be exactly equal to the sum of the variance captured by both features. In all 3 cases, the reconstruction error would be 0.\n",
    "\n",
    "</details>"
   ]
  },
  {
   "cell_type": "markdown",
   "metadata": {},
   "source": [
    "### (c)\n",
    "\n",
    "Suppose he decides to take the Singular Value Decomposition (SVD) of one of the three datasets, which we will call Dataset $X$. He runs the following piece of code:\n",
    "\n",
    "<center>\n",
    "\n",
    "`X_bar = X - np.mean(X, axis=0)`\n",
    "\n",
    "`U, S, V_T = np.linalg.svd(X_bar)`\n",
    "\n",
    "</center>\n",
    "\n",
    "He gets the following output for `S`:\n",
    "\n",
    "<center>\n",
    "\n",
    "`array([15.59204498, 3.85871854])`\n",
    "\n",
    "</center>\n",
    "\n",
    "and the following output for `V_T`:\n",
    "\n",
    "<center>\n",
    "\n",
    "`array([[0.89238775, -0.45126944], [0.45126944, 0.89238775]])`\n",
    "\n",
    "</center>\n",
    "\n",
    "Based on the given plots and the SVD, which of the following datasets does Dataset $X$ most closely resemble? Select one option.\n",
    "\n",
    "$\\bigcirc$  Dataset $A$\n",
    "\n",
    "$\\bigcirc$ Dataset $B$\n",
    "\n",
    "$\\bigcirc$ Dataset $C$\n",
    "\n",
    "<details>\n",
    "<summary><b>Answer</b></summary>\n",
    "\n",
    "We can identify the direction of the first principal component and figure out what plot it should correspond to. The first PC is the first column of $V$, which is the same as the first row of $V^T = [0.89, -0.45]^T$. This looks like the yellow arrow on the plot below, which aligns with Plot B because it lies in the direction of greatest variance. The direction that captures the most variance for both Plot A and C seems to be perpendicular to what's provided and does not match up.\n",
    "\n",
    "<center><img src=\"images/dis13_pca_plot_annotated.png\" width=\"500\"></center>\n",
    "\n",
    "</details>"
   ]
  },
  {
   "cell_type": "markdown",
   "metadata": {},
   "source": [
    "## Clustering\n",
    "\n",
    "### (a)\n",
    "\n",
    "Describe the difference between clustering and classification.\n",
    "\n",
    "<details>\n",
    "<summary><b>Answer</b></summary>\n",
    "\n",
    "Both involve assigning arbitrary classes to each observation. In classifi-\n",
    "cation, we have a labeled training set, i.e. a ground truth we can use to train our model. In clustering, we have no ground truth, and are instead looking for patterns in\n",
    "unlabeled data. Classification falls under supervised machine learning because it is\n",
    "concerned with predicting the correct/specific class given the true labels to the data.\n",
    "Clustering falls under unsupervised machine learning because there are no provided\n",
    "\"true\" labels - instead it is concerned with the patterns across the data (rather than\n",
    "where the data belongs).\n",
    "\n",
    "</details>"
   ]
  },
  {
   "cell_type": "markdown",
   "metadata": {},
   "source": [
    "### (b)\n",
    "\n",
    "Given a set of points and their labels (or cluster assignments) from a K-Means clustering,\n",
    "how can we compute the centroids of each of the clusters?\n",
    "\n",
    "<details>\n",
    "<summary><b>Answer</b></summary>\n",
    "\n",
    "For each label, find the mean of all of the data points corresponding to that label. In other words, compute centroids $c_i$ for each label/cluster's set of data points $L_i$ and corresponding data points $x_j \\in L_i$:\n",
    "\n",
    "$$\n",
    "c_i = \\frac{1}{n} \\sum_{x_j \\in L_i} x_j\n",
    "$$\n",
    "\n",
    "</details>"
   ]
  },
  {
   "cell_type": "markdown",
   "metadata": {},
   "source": [
    "### (c)\n",
    "\n",
    "Describe qualitatively what it means for a data point to have a negative silhouette score.\n",
    "\n",
    "<details>\n",
    "<summary><b>Answer</b></summary>\n",
    "\n",
    "The silhouette score of a data point is negative if it is on average closer to the points in the neighboring cluster than its own cluster. \n",
    "\n",
    "Recall the formula for calculating the silouhette score:\n",
    "\n",
    "$$\n",
    "S = \\frac{B - A}{\\max{(A, B)}}\n",
    "$$ \n",
    "\n",
    "where $A$ is the average distance to the *other* points in the cluster, and *B* is the average distance to points in the *closest* cluster.\n",
    "\n",
    "</details>"
   ]
  },
  {
   "cell_type": "markdown",
   "metadata": {},
   "source": [
    "### (d)\n",
    "\n",
    "Suppose that no two points have the same distance from each other. Are the cluster\n",
    "labels computed by K-means always the same for a given dataset? What about for max\n",
    "agglomerative clustering?\n",
    "\n",
    "<details>\n",
    "<summary><b>Answer</b></summary>\n",
    "\n",
    "The cluster labels computed by K-means could be different if we change\n",
    "the initial centers. This cannot happen for max agglomerative clustering because\n",
    "every point starts in its own cluster, and there is no choice involving initialization.\n",
    "\n",
    "</details>"
   ]
  },
  {
   "cell_type": "markdown",
   "metadata": {},
   "source": []
  }
 ],
 "metadata": {
  "history": [
   {
    "code": "import numpy as np",
    "id": "e03ee822cc7941e5863f0723eca7b32f",
    "idx": 0,
    "time": "2021-02-01T23:27:15.701Z",
    "type": "execution"
   },
   {
    "id": "e03ee822cc7941e5863f0723eca7b32f",
    "time": "2021-02-01T23:27:16.012Z",
    "type": "completion"
   },
   {
    "code": "psum = 0\nfor i in np.arange(1,25):\n    psum += i",
    "id": "a99f4962d8764231858c8662c0eda629",
    "idx": 1,
    "time": "2021-02-01T23:27:40.950Z",
    "type": "execution"
   },
   {
    "id": "a99f4962d8764231858c8662c0eda629",
    "time": "2021-02-01T23:27:42.055Z",
    "type": "completion"
   },
   {
    "code": "psum",
    "id": "42ea2fe1dcfb42178b4db5cbad763b27",
    "idx": 2,
    "time": "2021-02-01T23:27:44.325Z",
    "type": "execution"
   },
   {
    "id": "42ea2fe1dcfb42178b4db5cbad763b27",
    "time": "2021-02-01T23:27:44.419Z",
    "type": "completion"
   },
   {
    "code": "def foo(t, c, o):\n    return t + c + o",
    "id": "8babcdfe4430400abec0840f90a19be2",
    "idx": 1,
    "time": "2021-02-02T00:05:27.779Z",
    "type": "execution"
   },
   {
    "id": "8babcdfe4430400abec0840f90a19be2",
    "time": "2021-02-02T00:05:27.852Z",
    "type": "completion"
   },
   {
    "code": "psum = 0\nfor t in range(0, 25):\n    for c in range(0, 25-t):\n        o = 24 - t -c\n        psum += foo(t, c, o)\npsum",
    "id": "f23e1481f10b4f03a9a1af1daced3232",
    "idx": 3,
    "time": "2021-02-02T00:06:12.517Z",
    "type": "execution"
   },
   {
    "id": "f23e1481f10b4f03a9a1af1daced3232",
    "time": "2021-02-02T00:06:12.593Z",
    "type": "completion"
   },
   {
    "code": "import numpy as np\nimport matplotlib.pyplot as plt\n%matplotlib inline",
    "id": "06ffec8eed2f4a27b109de801c9e979b",
    "idx": 0,
    "time": "2021-02-08T22:29:47.543Z",
    "type": "execution"
   },
   {
    "id": "06ffec8eed2f4a27b109de801c9e979b",
    "time": "2021-02-08T22:29:48.050Z",
    "type": "completion"
   },
   {
    "code": "x =  np.random.choice(np.arange(10), 10000)",
    "id": "4fe735effc854b38867c42ca2f125d47",
    "idx": 1,
    "time": "2021-02-08T22:30:56.492Z",
    "type": "execution"
   },
   {
    "id": "4fe735effc854b38867c42ca2f125d47",
    "time": "2021-02-08T22:30:56.558Z",
    "type": "completion"
   },
   {
    "code": "x",
    "id": "b2d1b0807a8641c9803595eca99bc556",
    "idx": 2,
    "time": "2021-02-08T22:30:59.899Z",
    "type": "execution"
   },
   {
    "id": "b2d1b0807a8641c9803595eca99bc556",
    "time": "2021-02-08T22:30:59.976Z",
    "type": "completion"
   },
   {
    "code": "x_bias =  x + np.random.normal(size=10000)",
    "id": "18cd4fe3ba4e459f8feabc6d297a1a6d",
    "idx": 3,
    "time": "2021-02-08T22:31:20.570Z",
    "type": "execution"
   },
   {
    "id": "18cd4fe3ba4e459f8feabc6d297a1a6d",
    "time": "2021-02-08T22:31:20.645Z",
    "type": "completion"
   },
   {
    "code": "x_bias",
    "id": "ebeef9a125e24f858a7eb0bd63c41748",
    "idx": 4,
    "time": "2021-02-08T22:31:21.852Z",
    "type": "execution"
   },
   {
    "id": "ebeef9a125e24f858a7eb0bd63c41748",
    "time": "2021-02-08T22:31:21.920Z",
    "type": "completion"
   },
   {
    "code": "x_bias = x + np.random.choice([-1, 0, 1, 2], size=10000)",
    "id": "18cd4fe3ba4e459f8feabc6d297a1a6d",
    "idx": 3,
    "time": "2021-02-08T22:31:58.985Z",
    "type": "execution"
   },
   {
    "id": "18cd4fe3ba4e459f8feabc6d297a1a6d",
    "time": "2021-02-08T22:31:59.091Z",
    "type": "completion"
   },
   {
    "code": "x_bias",
    "id": "ebeef9a125e24f858a7eb0bd63c41748",
    "idx": 4,
    "time": "2021-02-08T22:31:59.857Z",
    "type": "execution"
   },
   {
    "id": "ebeef9a125e24f858a7eb0bd63c41748",
    "time": "2021-02-08T22:31:59.960Z",
    "type": "completion"
   },
   {
    "code": "np.mean(x)",
    "id": "35e1a08427744f458ae6df6cbbe76b43",
    "idx": 5,
    "time": "2021-02-08T22:32:10.910Z",
    "type": "execution"
   },
   {
    "id": "35e1a08427744f458ae6df6cbbe76b43",
    "time": "2021-02-08T22:32:13.118Z",
    "type": "completion"
   },
   {
    "code": "means = []\nn = 10\nfor _ in range(1000):\n    sam = np.random.choice(x_bias, size=n)\n    means.append(np.mean(sam))",
    "id": "d8146f43f8de4d32900171422fa79676",
    "idx": 6,
    "time": "2021-02-08T22:32:55.821Z",
    "type": "execution"
   },
   {
    "id": "d8146f43f8de4d32900171422fa79676",
    "time": "2021-02-08T22:32:55.983Z",
    "type": "completion"
   },
   {
    "code": "plt.hist(means)",
    "id": "d9355ed602a64c008badc48996df4e13",
    "idx": 7,
    "time": "2021-02-08T22:32:58.406Z",
    "type": "execution"
   },
   {
    "id": "d9355ed602a64c008badc48996df4e13",
    "time": "2021-02-08T22:32:58.841Z",
    "type": "completion"
   },
   {
    "code": "means = []\nn = 100\nfor _ in range(1000):\n    sam = np.random.choice(x_bias, size=n)\n    means.append(np.mean(sam))",
    "id": "d8146f43f8de4d32900171422fa79676",
    "idx": 6,
    "time": "2021-02-08T22:33:03.668Z",
    "type": "execution"
   },
   {
    "id": "d8146f43f8de4d32900171422fa79676",
    "time": "2021-02-08T22:33:03.856Z",
    "type": "completion"
   },
   {
    "code": "plt.hist(means)",
    "id": "d9355ed602a64c008badc48996df4e13",
    "idx": 7,
    "time": "2021-02-08T22:33:04.064Z",
    "type": "execution"
   },
   {
    "id": "d9355ed602a64c008badc48996df4e13",
    "time": "2021-02-08T22:33:04.329Z",
    "type": "completion"
   },
   {
    "code": "means = []\nn = 100\nfor n in [10, 50, 100, 300, 500]:\n    means = []\n    for _ in range(1000):\n        sam = np.random.choice(x_bias, size=n)\n        means.append(np.mean(sam))\n    plt.hist(means)",
    "id": "d8146f43f8de4d32900171422fa79676",
    "idx": 6,
    "time": "2021-02-08T22:33:29.042Z",
    "type": "execution"
   },
   {
    "id": "d8146f43f8de4d32900171422fa79676",
    "time": "2021-02-08T22:33:29.678Z",
    "type": "completion"
   },
   {
    "code": "means = []\nn = 100\nfor n in [10, 50, 100, 300, 500]:\n    means = []\n    for _ in range(1000):\n        sam = np.random.choice(x, size=n)\n        means.append(np.mean(sam))\n    plt.hist(means)",
    "id": "2afd6ab47d784e24ad5196d21087cce0",
    "idx": 7,
    "time": "2021-02-08T22:33:49.689Z",
    "type": "execution"
   },
   {
    "id": "2afd6ab47d784e24ad5196d21087cce0",
    "time": "2021-02-08T22:33:50.360Z",
    "type": "completion"
   },
   {
    "code": "means = []\nn = 100\nfor n in [10, 50, 100, 300, 500]:\n    means = []\n    for _ in range(1000):\n        sam = np.random.choice(x_bias, size=n)\n        means.append(np.mean(sam))\n    plt.hist(means)\n    plt.xlim(1, 9)",
    "id": "05d972515cea4580886753b9ab5fdf3b",
    "idx": 14,
    "time": "2021-02-09T19:17:58.105Z",
    "type": "execution"
   },
   {
    "id": "05d972515cea4580886753b9ab5fdf3b",
    "time": "2021-02-09T19:17:58.255Z",
    "type": "completion"
   },
   {
    "code": "import numpy as np\nimport matplotlib.pyplot as plt\n%matplotlib inline",
    "id": "bd55791b6cc644c79509ae8671d5ff5b",
    "idx": 0,
    "time": "2021-02-09T19:18:04.311Z",
    "type": "execution"
   },
   {
    "code": "x = np.random.choice(np.arange(10), 10000)",
    "id": "aadf2b19475c4be0a4d2563e4d29297e",
    "idx": 1,
    "time": "2021-02-09T19:18:04.313Z",
    "type": "execution"
   },
   {
    "code": "x",
    "id": "8f08070f418644508de6c795fb20c2c9",
    "idx": 2,
    "time": "2021-02-09T19:18:04.315Z",
    "type": "execution"
   },
   {
    "code": "x_bias = x + np.random.choice([-1, 0, 1, 2], size=10000)",
    "id": "f2ccf76d197d45099bd62b103840e3ce",
    "idx": 3,
    "time": "2021-02-09T19:18:04.316Z",
    "type": "execution"
   },
   {
    "code": "x_bias",
    "id": "22f916c8254e4e6a8ea3d7918ae2d427",
    "idx": 4,
    "time": "2021-02-09T19:18:04.317Z",
    "type": "execution"
   },
   {
    "code": "np.mean(x)",
    "id": "b0dab4614d5746c783d6902a7ed82212",
    "idx": 5,
    "time": "2021-02-09T19:18:04.318Z",
    "type": "execution"
   },
   {
    "code": "means = []\nn = 100\nfor n in [10, 50, 100, 300, 500]:\n    means = []\n    for _ in range(1000):\n        sam = np.random.choice(x_bias, size=n)\n        means.append(np.mean(sam))\n    plt.hist(means)\n    plt.xlim(1, 9)",
    "id": "05d972515cea4580886753b9ab5fdf3b",
    "idx": 14,
    "time": "2021-02-09T19:18:04.329Z",
    "type": "execution"
   },
   {
    "code": "means = []\nn = 100\nfor n in [10, 50, 100, 300, 500]:\n    means = []\n    for _ in range(1000):\n        sam = np.random.choice(x, size=n)\n        means.append(np.mean(sam))\n    plt.hist(means)\n    plt.xlim(1, 9)",
    "id": "722dc1e6340e42aa8ae45019cfe47c82",
    "idx": 15,
    "time": "2021-02-09T19:18:04.331Z",
    "type": "execution"
   },
   {
    "id": "bd55791b6cc644c79509ae8671d5ff5b",
    "time": "2021-02-09T19:18:04.979Z",
    "type": "completion"
   },
   {
    "id": "aadf2b19475c4be0a4d2563e4d29297e",
    "time": "2021-02-09T19:18:04.985Z",
    "type": "completion"
   },
   {
    "id": "8f08070f418644508de6c795fb20c2c9",
    "time": "2021-02-09T19:18:05.027Z",
    "type": "completion"
   },
   {
    "id": "f2ccf76d197d45099bd62b103840e3ce",
    "time": "2021-02-09T19:18:05.058Z",
    "type": "completion"
   },
   {
    "id": "22f916c8254e4e6a8ea3d7918ae2d427",
    "time": "2021-02-09T19:18:05.103Z",
    "type": "completion"
   },
   {
    "id": "b0dab4614d5746c783d6902a7ed82212",
    "time": "2021-02-09T19:18:05.153Z",
    "type": "completion"
   },
   {
    "id": "05d972515cea4580886753b9ab5fdf3b",
    "time": "2021-02-09T19:18:06.082Z",
    "type": "completion"
   },
   {
    "id": "722dc1e6340e42aa8ae45019cfe47c82",
    "time": "2021-02-09T19:18:06.898Z",
    "type": "completion"
   },
   {
    "code": "means = []\nn = 100\nplt.figure(figsize=[10, 12])\nfor i, pop in enumerate([x_bias, x]):\n    plt.subplot(2, 1, i + 1)\n    for n in [10, 50, 100, 300, 500]:\n        means = []\n        for _ in range(1000):\n            sam = np.random.choice(pop, size=n)\n            means.append(np.mean(sam))\n        plt.hist(means)\n        plt.xlim(1, 9)",
    "id": "05d972515cea4580886753b9ab5fdf3b",
    "idx": 14,
    "time": "2021-02-09T19:19:27.290Z",
    "type": "execution"
   },
   {
    "id": "05d972515cea4580886753b9ab5fdf3b",
    "time": "2021-02-09T19:19:28.587Z",
    "type": "completion"
   },
   {
    "code": "means = []\nn = 100\nplt.figure(figsize=[10, 12])\nfor i, pop in enumerate([x_bias, x]):\n    plt.subplot(2, 1, i + 1)\n    for n in [10, 50, 100, 300, 500]:\n        means = []\n        for _ in range(1000):\n            sam = np.random.choice(pop, size=n)\n            means.append(np.mean(sam))\n        plt.hist(means)\n        plt.xlim(1, 9)\n        if i == 0:\n            plt.title(\"Bias Sampling Procedure\")\n        else:\n            plt.title(\"Unbias Sampling Procedure\")",
    "id": "05d972515cea4580886753b9ab5fdf3b",
    "idx": 14,
    "time": "2021-02-09T19:19:49.527Z",
    "type": "execution"
   },
   {
    "id": "05d972515cea4580886753b9ab5fdf3b",
    "time": "2021-02-09T19:19:50.843Z",
    "type": "completion"
   },
   {
    "code": "means = []\nn = 100\nplt.figure(figsize=[10, 12])\nfor i, pop in enumerate([x_bias, x]):\n    plt.subplot(2, 1, i + 1)\n    for n in [10, 50, 100, 300, 500]:\n        means = []\n        for _ in range(1000):\n            sam = np.random.choice(pop, size=n)\n            means.append(np.mean(sam))\n        plt.hist(means)\n        plt.xlim(1, 9)\n        if i == 0:\n            plt.title(\"Bias Sampling Procedure\")\n        else:\n            plt.title(\"Unbiased Sampling Procedure\")",
    "id": "05d972515cea4580886753b9ab5fdf3b",
    "idx": 14,
    "time": "2021-02-09T19:19:51.357Z",
    "type": "execution"
   },
   {
    "id": "05d972515cea4580886753b9ab5fdf3b",
    "time": "2021-02-09T19:19:52.644Z",
    "type": "completion"
   },
   {
    "code": "means = []\nn = 100\nplt.figure(figsize=[10, 12])\nfor i, pop in enumerate([x_bias, x]):\n    plt.subplot(2, 1, i + 1)\n    for n in [10, 50, 100, 300, 500]:\n        means = []\n        for _ in range(1000):\n            sam = np.random.choice(pop, size=n)\n            means.append(np.mean(sam))\n        plt.hist(means)\n        plt.xlim(1, 9)\n        if i == 0:\n            plt.title(\"Biased Sampling Procedure\")\n        else:\n            plt.title(\"Unbiased Sampling Procedure\")",
    "id": "05d972515cea4580886753b9ab5fdf3b",
    "idx": 14,
    "time": "2021-02-09T19:20:03.045Z",
    "type": "execution"
   },
   {
    "id": "05d972515cea4580886753b9ab5fdf3b",
    "time": "2021-02-09T19:20:04.367Z",
    "type": "completion"
   },
   {
    "code": "np,mean(x_bias)",
    "id": "1cc76e95c4d74d779e7e4b9ed9aa0abf",
    "idx": 6,
    "time": "2021-02-09T19:20:35.284Z",
    "type": "execution"
   },
   {
    "id": "1cc76e95c4d74d779e7e4b9ed9aa0abf",
    "time": "2021-02-09T19:20:35.403Z",
    "type": "completion"
   },
   {
    "code": "np.mean(x_bias)",
    "id": "1cc76e95c4d74d779e7e4b9ed9aa0abf",
    "idx": 6,
    "time": "2021-02-09T19:20:38.077Z",
    "type": "execution"
   },
   {
    "id": "1cc76e95c4d74d779e7e4b9ed9aa0abf",
    "time": "2021-02-09T19:20:38.164Z",
    "type": "completion"
   }
  ],
  "kernelspec": {
   "display_name": "data100quarto",
   "language": "python",
   "name": "python3"
  },
  "language_info": {
   "codemirror_mode": {
    "name": "ipython",
    "version": 3
   },
   "file_extension": ".py",
   "mimetype": "text/x-python",
   "name": "python",
   "nbconvert_exporter": "python",
   "pygments_lexer": "ipython3",
   "version": "3.13.1"
  }
 },
 "nbformat": 4,
 "nbformat_minor": 4
}
