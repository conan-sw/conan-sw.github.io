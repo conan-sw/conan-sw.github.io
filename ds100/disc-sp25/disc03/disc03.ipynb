{
 "cells": [
  {
   "cell_type": "raw",
   "metadata": {
    "vscode": {
     "languageId": "raw"
    }
   },
   "source": [
    "---\n",
    "title: \"Pandas II, EDA\"\n",
    "execute:\n",
    "  echo: true\n",
    "format:\n",
    "  html:\n",
    "    code-fold: true\n",
    "    code-tools: true\n",
    "    toc: true\n",
    "    toc-title: \"Pandas II, EDA\"\n",
    "    page-layout: full\n",
    "    theme:\n",
    "      - cosmo\n",
    "      - cerulean\n",
    "    callout-icon: false\n",
    "jupyter:\n",
    "  jupytext:\n",
    "    text_representation:\n",
    "      extension: .qmd\n",
    "      format_name: quarto\n",
    "      format_version: '1.0'\n",
    "      jupytext_version: 1.16.1\n",
    "  kernelspec:\n",
    "    display_name: data100quarto\n",
    "    language: python\n",
    "    name: python3\n",
    "---"
   ]
  },
  {
   "cell_type": "markdown",
   "metadata": {},
   "source": [
    "::: {.callout-note}\n",
    "## Clarifications from Discussion\n",
    "- One way of determining whether a variable is **quantitative** or **qualitative ordinal** is to think about what the difference between levels indicate. \n",
    "    - The number of boba pearls in a cup is **quantitative** because we know the difference between 4 pearls and 5 pearls is objectively 1 pearl.\n",
    "    - The rating of a restaurant (out of 5) is **qualitative** because the numbers are determined rather arbitrarily. What is the difference between a 3 and a 4? Why can't the ratings be out of 10 instead of 5? Does that change anything?\n",
    "- The graph in 1b) uses KDE. Although the values look continuous, you can assume the modes of the distribution to be 0 and 100.\n",
    ":::"
   ]
  },
  {
   "cell_type": "code",
   "execution_count": 18,
   "metadata": {
    "id": "mt2ppUrDovbB"
   },
   "outputs": [],
   "source": [
    "import pandas as pd\n",
    "import numpy as np\n",
    "import warnings\n",
    "warnings.simplefilter(action='ignore', category=FutureWarning)"
   ]
  },
  {
   "cell_type": "markdown",
   "metadata": {},
   "source": [
    "## Dealing with Missing Data\n",
    "\n",
    "While exploring a Berkeley dataset (separate from `babynames`) with a million records, you realize that a portion of measurements in different fields are `NaN` values! You decide to impute these missing values before continuing your EDA. Given the empirical distribution of each of the below variables, determine how to solve the missing data problem. (Note that the data in these graphs are fictional)."
   ]
  },
  {
   "cell_type": "markdown",
   "metadata": {},
   "source": [
    "Suppose that you plot \"cups of coffee sold at V&A Cafe per day\" versus \"inches of rain per day\" across a period of 2 months, shown below. V&A Cafe is not missing any data, but 30% of the data in \"inches of rain\" are `NaN` values that have been represented with \"-2\", an impossible amount of rain. Which of the following techniques would be **most** effective in solving the issue of missing data? (Select all that apply)\n",
    "\n",
    "![Question 1a](images/2a.png)"
   ]
  },
  {
   "cell_type": "markdown",
   "metadata": {},
   "source": [
    "**A.** Using the mean to impute the missing values\n",
    "\n",
    "**B.** Using the mode(s) to impute the missing values\n",
    "\n",
    "**C.** Using the median to impute the missing values\n",
    "\n",
    "**D.** Dropping any rows with missing values\n",
    "\n",
    "**E.** Imputing missing values through interpolation\n",
    "\n",
    "<details>\n",
    "<summary><b>Answer</b></summary>\n",
    "\n",
    "**Correct Options: A, C, E**\n",
    "\n",
    "</details>"
   ]
  },
  {
   "cell_type": "markdown",
   "metadata": {},
   "source": [
    "Suppose we examine the amount of money lost/gained in a game of poker and see that this variable is missing 1% of its values. Its distribution, shown below, is constructed from all valid (non-`NaN`) values. Which of the following techniques would be **reasonably** effective in solving this issue of missing data? (Select all that apply)\n",
    "\n",
    "![Question 1b graph](images/distro2.png)"
   ]
  },
  {
   "cell_type": "markdown",
   "metadata": {},
   "source": [
    "**A.** Using the mean to impute the missing values\n",
    "\n",
    "**B.** Using the mode(s) to impute the missing values\n",
    "\n",
    "**C.** Using the median to impute the missing values\n",
    "\n",
    "**D.** Dropping any rows with missing values\n",
    "\n",
    "**E.** Imputing missing values through interpolation\n",
    "\n",
    "<details>\n",
    "<summary><b>Answer</b></summary>\n",
    "\n",
    "**Correct Options: B, D**\n",
    "\n",
    "</details>"
   ]
  },
  {
   "cell_type": "markdown",
   "metadata": {},
   "source": [
    "Suppose that the relationship between students’ time asleep (in hours) and the amount of extra credit they received in Data 100 is shown below. There is no missing data for \"hours asleep\", but 0.5% of \"extra credit score\" is missing. Like in part a, the missing NaN values were replaced with an impossible score of -0.002, making the graph look funky. Which of the following techniques would be **most** effective in solving this issue of missing data? (Select all that apply)\n",
    "\n",
    "![Question 1c graph](images/2c.jpeg)"
   ]
  },
  {
   "cell_type": "markdown",
   "metadata": {},
   "source": [
    "**A.** Using the mean to impute the missing values\n",
    "\n",
    "**B.** Using the mode(s) to impute the missing values\n",
    "\n",
    "**C.** Using the median to impute the missing values\n",
    "\n",
    "**D.** Dropping any rows with missing values\n",
    "\n",
    "**E.** Imputing missing values through interpolation\n",
    "\n",
    "<details>\n",
    "<summary><b>Answer</b></summary>\n",
    "\n",
    "**Correct Options: D, E**\n",
    "\n",
    "</details>"
   ]
  },
  {
   "cell_type": "markdown",
   "metadata": {
    "id": "-XsS5AUQbJcx"
   },
   "source": [
    "## Pandas + EDA exam prep (modeled after Fa22 Midterm Q1)"
   ]
  },
  {
   "cell_type": "markdown",
   "metadata": {},
   "source": [
    "It’s the annual Monopoly World Championship! The finalists: Shawn, Amanda, Neil, and Annie are playing Monopoly, a board game where players pay a price to buy properties, which can then generate income for them. Each property can be owned by only one player at a time. At the end of the game, the player with the most money wins.\n",
    "    \n",
    "Shawn wants to figure out which properties are most worth buying. He creates a `DataFrame` income with data on the current game state, shown on the **left**. He also finds a `DataFrame` properties with data on Monopoly properties, shown on the **right**.\n",
    "    \n",
    "Both tables have 28 rows. For brevity, only the first few rows of each `DataFrame` are shown."
   ]
  },
  {
   "cell_type": "code",
   "execution_count": 5,
   "metadata": {
    "colab": {
     "base_uri": "https://localhost:8080/",
     "height": 286
    },
    "id": "zI4H81rmo97e",
    "jupyter": {
     "source_hidden": true
    },
    "outputId": "eae0bbbc-b6b4-47c6-a923-b423de43549c"
   },
   "outputs": [
    {
     "data": {
      "text/html": [
       "<div>\n",
       "<style scoped>\n",
       "    .dataframe tbody tr th:only-of-type {\n",
       "        vertical-align: middle;\n",
       "    }\n",
       "\n",
       "    .dataframe tbody tr th {\n",
       "        vertical-align: top;\n",
       "    }\n",
       "\n",
       "    .dataframe thead th {\n",
       "        text-align: right;\n",
       "    }\n",
       "</style>\n",
       "<table border=\"1\" class=\"dataframe\">\n",
       "  <thead>\n",
       "    <tr style=\"text-align: right;\">\n",
       "      <th></th>\n",
       "      <th>Player</th>\n",
       "      <th>Property</th>\n",
       "      <th>Income Generated</th>\n",
       "    </tr>\n",
       "  </thead>\n",
       "  <tbody>\n",
       "    <tr>\n",
       "      <th>0</th>\n",
       "      <td>Shawn</td>\n",
       "      <td>Boardwalk</td>\n",
       "      <td>$425</td>\n",
       "    </tr>\n",
       "    <tr>\n",
       "      <th>1</th>\n",
       "      <td>Amanda</td>\n",
       "      <td>Park Place</td>\n",
       "      <td>$375</td>\n",
       "    </tr>\n",
       "    <tr>\n",
       "      <th>2</th>\n",
       "      <td>Neil</td>\n",
       "      <td>Marvin Gardens</td>\n",
       "      <td>$200</td>\n",
       "    </tr>\n",
       "    <tr>\n",
       "      <th>3</th>\n",
       "      <td>NaN</td>\n",
       "      <td>Kentucky Ave</td>\n",
       "      <td>NaN</td>\n",
       "    </tr>\n",
       "    <tr>\n",
       "      <th>4</th>\n",
       "      <td>Shawn</td>\n",
       "      <td>Pennsylvania Ave</td>\n",
       "      <td>$150</td>\n",
       "    </tr>\n",
       "    <tr>\n",
       "      <th>5</th>\n",
       "      <td>Annie</td>\n",
       "      <td>Oriental Ave</td>\n",
       "      <td>$50</td>\n",
       "    </tr>\n",
       "    <tr>\n",
       "      <th>6</th>\n",
       "      <td>Amanda</td>\n",
       "      <td>Baltic Ave</td>\n",
       "      <td>$60</td>\n",
       "    </tr>\n",
       "  </tbody>\n",
       "</table>\n",
       "</div>"
      ],
      "text/plain": [
       "   Player          Property Income Generated\n",
       "0   Shawn         Boardwalk             $425\n",
       "1  Amanda        Park Place             $375\n",
       "2    Neil    Marvin Gardens             $200\n",
       "3     NaN      Kentucky Ave              NaN\n",
       "4   Shawn  Pennsylvania Ave             $150\n",
       "5   Annie      Oriental Ave              $50\n",
       "6  Amanda        Baltic Ave              $60"
      ]
     },
     "execution_count": 5,
     "metadata": {},
     "output_type": "execute_result"
    }
   ],
   "source": [
    "# First DataFrame: income\n",
    "data_income = {\n",
    "    'Player': ['Shawn', 'Amanda', 'Neil', np.nan, 'Shawn', 'Annie', 'Amanda'],\n",
    "    'Property': ['Boardwalk', 'Park Place', 'Marvin Gardens', 'Kentucky Ave', 'Pennsylvania Ave', 'Oriental Ave', 'Baltic Ave'],\n",
    "    'Income Generated': ['$425', '$375', '$200', np.nan, '$150', '$50', '$60']\n",
    "}\n",
    "\n",
    "income = pd.DataFrame(data_income)\n",
    "income"
   ]
  },
  {
   "cell_type": "markdown",
   "metadata": {},
   "source": [
    "`income`\n",
    "\n",
    "* `Player` is the name of the player, as a **str**.\n",
    "* `Property` is a property currently owned by the player, as a **str**.\n",
    "* `Income Generated` is the amount of income a player has earned from that property so far, as a **str**."
   ]
  },
  {
   "cell_type": "code",
   "execution_count": 6,
   "metadata": {
    "colab": {
     "base_uri": "https://localhost:8080/",
     "height": 303
    },
    "id": "AlkVFCT2pKGi",
    "jupyter": {
     "source_hidden": true
    },
    "outputId": "be75b06e-7be2-4ad2-9f7f-a5bca6819add"
   },
   "outputs": [
    {
     "data": {
      "text/html": [
       "<div>\n",
       "<style scoped>\n",
       "    .dataframe tbody tr th:only-of-type {\n",
       "        vertical-align: middle;\n",
       "    }\n",
       "\n",
       "    .dataframe tbody tr th {\n",
       "        vertical-align: top;\n",
       "    }\n",
       "\n",
       "    .dataframe thead th {\n",
       "        text-align: right;\n",
       "    }\n",
       "</style>\n",
       "<table border=\"1\" class=\"dataframe\">\n",
       "  <thead>\n",
       "    <tr style=\"text-align: right;\">\n",
       "      <th></th>\n",
       "      <th>Property</th>\n",
       "      <th>Property Color</th>\n",
       "      <th>Purchase Price</th>\n",
       "    </tr>\n",
       "  </thead>\n",
       "  <tbody>\n",
       "    <tr>\n",
       "      <th>0</th>\n",
       "      <td>Park Place</td>\n",
       "      <td>Dark Blue</td>\n",
       "      <td>350.0</td>\n",
       "    </tr>\n",
       "    <tr>\n",
       "      <th>1</th>\n",
       "      <td>Oriental Ave</td>\n",
       "      <td>Light Blue</td>\n",
       "      <td>100.0</td>\n",
       "    </tr>\n",
       "    <tr>\n",
       "      <th>2</th>\n",
       "      <td>Vermont Ave</td>\n",
       "      <td>Light Blue</td>\n",
       "      <td>100.0</td>\n",
       "    </tr>\n",
       "    <tr>\n",
       "      <th>3</th>\n",
       "      <td>Pacific Ave</td>\n",
       "      <td>Green</td>\n",
       "      <td>300.0</td>\n",
       "    </tr>\n",
       "    <tr>\n",
       "      <th>4</th>\n",
       "      <td>Boardwalk</td>\n",
       "      <td>Dark Blue</td>\n",
       "      <td>400.0</td>\n",
       "    </tr>\n",
       "    <tr>\n",
       "      <th>5</th>\n",
       "      <td>Illinois Ave</td>\n",
       "      <td>Red</td>\n",
       "      <td>240.0</td>\n",
       "    </tr>\n",
       "    <tr>\n",
       "      <th>6</th>\n",
       "      <td>Atlantic Ave</td>\n",
       "      <td>Yellow</td>\n",
       "      <td>260.0</td>\n",
       "    </tr>\n",
       "  </tbody>\n",
       "</table>\n",
       "</div>"
      ],
      "text/plain": [
       "       Property Property Color  Purchase Price\n",
       "0    Park Place      Dark Blue           350.0\n",
       "1  Oriental Ave     Light Blue           100.0\n",
       "2   Vermont Ave     Light Blue           100.0\n",
       "3   Pacific Ave          Green           300.0\n",
       "4     Boardwalk      Dark Blue           400.0\n",
       "5  Illinois Ave            Red           240.0\n",
       "6  Atlantic Ave         Yellow           260.0"
      ]
     },
     "execution_count": 6,
     "metadata": {},
     "output_type": "execute_result"
    }
   ],
   "source": [
    "# Second DataFrame: properties\n",
    "data_properties = {\n",
    "    'Property': ['Park Place', 'Oriental Ave', 'Vermont Ave', 'Pacific Ave', 'Boardwalk', 'Illinois Ave', 'Atlantic Ave'],\n",
    "    'Property Color': ['Dark Blue', 'Light Blue', 'Light Blue', 'Green', 'Dark Blue', 'Red', 'Yellow'],\n",
    "    'Purchase Price': [350.0, 100.0, 100.0, 300.0, 400.0, 240.0, 260.0]\n",
    "}\n",
    "\n",
    "properties = pd.DataFrame(data_properties)\n",
    "properties"
   ]
  },
  {
   "cell_type": "markdown",
   "metadata": {},
   "source": [
    "`properties`\n",
    "\n",
    "* `Property` is the name of the property, as a **str**. There are 28 unique properties.\n",
    "* `Property Color` is a color group that the property belongs to, as a **str**. There are 10 unique color groups, and each property belongs to a single group.\n",
    "* `Purchase Price` is the price to buy the property, as a **float**."
   ]
  },
  {
   "cell_type": "markdown",
   "metadata": {},
   "source": [
    "**Note:** For the properties that are not currently owned by any player, the `Player` and `Income Generated` columns in the `income` table have a `NaN` value."
   ]
  },
  {
   "cell_type": "markdown",
   "metadata": {},
   "source": [
    "**(a)** What is the granularity of the `income` table?\n",
    "\n",
    "<details>\n",
    "    <summary><b>Answer</b></summary><br>\n",
    "\n",
    "**Property**\n",
    "  \n",
    "* Each unique property has its own row\n",
    "* Notice how one player can have own multiple properties and can appear in multiple rows! This tells us that the granularity of this table is not **Player**.\n",
    "\n",
    "</details>"
   ]
  },
  {
   "cell_type": "markdown",
   "metadata": {},
   "source": [
    "**(b)** Consider the `Player` and `Purchase Price` variables. What type of variable is each one? (quantitative, qualitative nominal, qualitative ordinal)\n",
    "\n",
    "<details>\n",
    "    <summary><b>Answer</b></summary>\n",
    "\n",
    "* **Player**: Qualitative nominal\n",
    "* **Purchase Price**: Quantitative\n",
    "\n",
    "</details>"
   ]
  },
  {
   "cell_type": "markdown",
   "metadata": {
    "id": "tOagA451bWih"
   },
   "source": [
    "**(c)** Which of the following line(s) of code successfully returns a `Series` with the number of properties each player owns? **Select all that apply**.\n",
    "\n",
    "<details>\n",
    "    <summary><b>Answer</b></summary>\n",
    "\n",
    "* `income[\"Player\"].value_counts()`\n",
    "* `income.groupby(\"Player\").size()`\n",
    "\n",
    "</details>"
   ]
  },
  {
   "cell_type": "code",
   "execution_count": 7,
   "metadata": {
    "id": "gw8t3axmbfTt"
   },
   "outputs": [
    {
     "name": "stderr",
     "output_type": "stream",
     "text": [
      "C:\\Users\\conan\\AppData\\Local\\Temp\\ipykernel_12352\\1831401566.py:1: FutureWarning: pandas.value_counts is deprecated and will be removed in a future version. Use pd.Series(obj).value_counts() instead.\n",
      "  income.groupby(\"Player\").agg(pd.value_counts)\n",
      "C:\\Users\\conan\\AppData\\Local\\Temp\\ipykernel_12352\\1831401566.py:1: FutureWarning: pandas.value_counts is deprecated and will be removed in a future version. Use pd.Series(obj).value_counts() instead.\n",
      "  income.groupby(\"Player\").agg(pd.value_counts)\n",
      "C:\\Users\\conan\\AppData\\Local\\Temp\\ipykernel_12352\\1831401566.py:1: FutureWarning: pandas.value_counts is deprecated and will be removed in a future version. Use pd.Series(obj).value_counts() instead.\n",
      "  income.groupby(\"Player\").agg(pd.value_counts)\n",
      "C:\\Users\\conan\\AppData\\Local\\Temp\\ipykernel_12352\\1831401566.py:1: FutureWarning: pandas.value_counts is deprecated and will be removed in a future version. Use pd.Series(obj).value_counts() instead.\n",
      "  income.groupby(\"Player\").agg(pd.value_counts)\n",
      "C:\\Users\\conan\\AppData\\Local\\Temp\\ipykernel_12352\\1831401566.py:1: FutureWarning: pandas.value_counts is deprecated and will be removed in a future version. Use pd.Series(obj).value_counts() instead.\n",
      "  income.groupby(\"Player\").agg(pd.value_counts)\n",
      "C:\\Users\\conan\\AppData\\Local\\Temp\\ipykernel_12352\\1831401566.py:1: FutureWarning: pandas.value_counts is deprecated and will be removed in a future version. Use pd.Series(obj).value_counts() instead.\n",
      "  income.groupby(\"Player\").agg(pd.value_counts)\n",
      "C:\\Users\\conan\\AppData\\Local\\Temp\\ipykernel_12352\\1831401566.py:1: FutureWarning: pandas.value_counts is deprecated and will be removed in a future version. Use pd.Series(obj).value_counts() instead.\n",
      "  income.groupby(\"Player\").agg(pd.value_counts)\n",
      "C:\\Users\\conan\\AppData\\Local\\Temp\\ipykernel_12352\\1831401566.py:1: FutureWarning: pandas.value_counts is deprecated and will be removed in a future version. Use pd.Series(obj).value_counts() instead.\n",
      "  income.groupby(\"Player\").agg(pd.value_counts)\n"
     ]
    },
    {
     "data": {
      "text/html": [
       "<div>\n",
       "<style scoped>\n",
       "    .dataframe tbody tr th:only-of-type {\n",
       "        vertical-align: middle;\n",
       "    }\n",
       "\n",
       "    .dataframe tbody tr th {\n",
       "        vertical-align: top;\n",
       "    }\n",
       "\n",
       "    .dataframe thead th {\n",
       "        text-align: right;\n",
       "    }\n",
       "</style>\n",
       "<table border=\"1\" class=\"dataframe\">\n",
       "  <thead>\n",
       "    <tr style=\"text-align: right;\">\n",
       "      <th></th>\n",
       "      <th>Property</th>\n",
       "      <th>Income Generated</th>\n",
       "    </tr>\n",
       "    <tr>\n",
       "      <th>Player</th>\n",
       "      <th></th>\n",
       "      <th></th>\n",
       "    </tr>\n",
       "  </thead>\n",
       "  <tbody>\n",
       "    <tr>\n",
       "      <th>Amanda</th>\n",
       "      <td>[1, 1]</td>\n",
       "      <td>[1, 1]</td>\n",
       "    </tr>\n",
       "    <tr>\n",
       "      <th>Annie</th>\n",
       "      <td>1</td>\n",
       "      <td>1</td>\n",
       "    </tr>\n",
       "    <tr>\n",
       "      <th>Neil</th>\n",
       "      <td>1</td>\n",
       "      <td>1</td>\n",
       "    </tr>\n",
       "    <tr>\n",
       "      <th>Shawn</th>\n",
       "      <td>[1, 1]</td>\n",
       "      <td>[1, 1]</td>\n",
       "    </tr>\n",
       "  </tbody>\n",
       "</table>\n",
       "</div>"
      ],
      "text/plain": [
       "       Property Income Generated\n",
       "Player                          \n",
       "Amanda   [1, 1]           [1, 1]\n",
       "Annie         1                1\n",
       "Neil          1                1\n",
       "Shawn    [1, 1]           [1, 1]"
      ]
     },
     "execution_count": 7,
     "metadata": {},
     "output_type": "execute_result"
    }
   ],
   "source": [
    "income.groupby(\"Player\").agg(pd.value_counts)"
   ]
  },
  {
   "cell_type": "code",
   "execution_count": 8,
   "metadata": {
    "id": "2YhCCDObbqsS"
   },
   "outputs": [
    {
     "data": {
      "text/plain": [
       "Player\n",
       "Shawn     2\n",
       "Amanda    2\n",
       "Neil      1\n",
       "Annie     1\n",
       "Name: count, dtype: int64"
      ]
     },
     "execution_count": 8,
     "metadata": {},
     "output_type": "execute_result"
    }
   ],
   "source": [
    "income[\"Player\"].value_counts()"
   ]
  },
  {
   "cell_type": "code",
   "execution_count": 9,
   "metadata": {
    "id": "HfG5KGtrbqvd"
   },
   "outputs": [],
   "source": [
    "# income[\"Player\", \"Property\"].groupby(\"Player\").size()"
   ]
  },
  {
   "cell_type": "markdown",
   "metadata": {},
   "source": [
    "::: {.callout-warning}\n",
    "The above code will error! Make sure to use **double brackets** when selecting columns.\n",
    ":::"
   ]
  },
  {
   "cell_type": "code",
   "execution_count": 10,
   "metadata": {
    "id": "-qKmcoJhb6qi"
   },
   "outputs": [
    {
     "data": {
      "text/html": [
       "<div>\n",
       "<style scoped>\n",
       "    .dataframe tbody tr th:only-of-type {\n",
       "        vertical-align: middle;\n",
       "    }\n",
       "\n",
       "    .dataframe tbody tr th {\n",
       "        vertical-align: top;\n",
       "    }\n",
       "\n",
       "    .dataframe thead th {\n",
       "        text-align: right;\n",
       "    }\n",
       "</style>\n",
       "<table border=\"1\" class=\"dataframe\">\n",
       "  <thead>\n",
       "    <tr style=\"text-align: right;\">\n",
       "      <th></th>\n",
       "      <th>Player</th>\n",
       "    </tr>\n",
       "    <tr>\n",
       "      <th>Player</th>\n",
       "      <th></th>\n",
       "    </tr>\n",
       "  </thead>\n",
       "  <tbody>\n",
       "    <tr>\n",
       "      <th>Amanda</th>\n",
       "      <td>2</td>\n",
       "    </tr>\n",
       "    <tr>\n",
       "      <th>Annie</th>\n",
       "      <td>1</td>\n",
       "    </tr>\n",
       "    <tr>\n",
       "      <th>Neil</th>\n",
       "      <td>1</td>\n",
       "    </tr>\n",
       "    <tr>\n",
       "      <th>Shawn</th>\n",
       "      <td>2</td>\n",
       "    </tr>\n",
       "  </tbody>\n",
       "</table>\n",
       "</div>"
      ],
      "text/plain": [
       "        Player\n",
       "Player        \n",
       "Amanda       2\n",
       "Annie        1\n",
       "Neil         1\n",
       "Shawn        2"
      ]
     },
     "execution_count": 10,
     "metadata": {},
     "output_type": "execute_result"
    }
   ],
   "source": [
    "income.groupby(\"Player\")[[\"Player\"]].count()"
   ]
  },
  {
   "cell_type": "markdown",
   "metadata": {},
   "source": [
    "**(d)** He now decides to calculate the amount of profit from each property. He wants to store this in a column called `Profit` in the income `DataFrame`. To do this, he first has to transform the Income Generated column to be of a `float` datatype. \n",
    "\n",
    "**Write one line** of code to replace the old column with a new column, also called `Income Generated`, with the datatype modification described above. You may assume that each entry in `Income Generated` consists of a dollar sign ($) followed by a number, except for the `NaN` values."
   ]
  },
  {
   "cell_type": "code",
   "execution_count": 11,
   "metadata": {},
   "outputs": [],
   "source": [
    "income[\"Income Generated\"] = income[\"Income Generated\"].str[1:].astype(float)"
   ]
  },
  {
   "cell_type": "markdown",
   "metadata": {},
   "source": [
    "**(e)** Assuming that the answer to (d) is correct, let’s add a `Profit` column to the `income` `DataFrame`. Fill in the following blanks to do this, and please add arguments to function class as you see appropriate.\n",
    "\n",
    "**Note:** Profit is calculated by subtracting the purchase price from generated income."
   ]
  },
  {
   "cell_type": "markdown",
   "metadata": {},
   "source": [
    "`combined_df = income._____A_____(_______B_______)`\n",
    "\n",
    "`income[\"Profit\"] = _______C_______`"
   ]
  },
  {
   "cell_type": "code",
   "execution_count": 12,
   "metadata": {
    "id": "jJvhRwcubqye"
   },
   "outputs": [],
   "source": [
    "combined_df = income.merge(properties, on = \"Property\")\n",
    "income[\"Profit\"] = combined_df[\"Income Generated\"] - combined_df[\"Purchase Price\"]"
   ]
  },
  {
   "cell_type": "markdown",
   "metadata": {},
   "source": [
    "Shawn realizes he’s lost more money than he’s made. To solve this problem, he begins by writing some `Pandas` code to merge the `Property Color` column into the `income` `DataFrame` and drops all rows with `NaN` values. He calls this `DataFrame` `merged_df`. Shown below are the first few rows."
   ]
  },
  {
   "cell_type": "code",
   "execution_count": 16,
   "metadata": {},
   "outputs": [
    {
     "data": {
      "text/html": [
       "<div>\n",
       "<style scoped>\n",
       "    .dataframe tbody tr th:only-of-type {\n",
       "        vertical-align: middle;\n",
       "    }\n",
       "\n",
       "    .dataframe tbody tr th {\n",
       "        vertical-align: top;\n",
       "    }\n",
       "\n",
       "    .dataframe thead th {\n",
       "        text-align: right;\n",
       "    }\n",
       "</style>\n",
       "<table border=\"1\" class=\"dataframe\">\n",
       "  <thead>\n",
       "    <tr style=\"text-align: right;\">\n",
       "      <th></th>\n",
       "      <th>Player</th>\n",
       "      <th>Property</th>\n",
       "      <th>Income Generated</th>\n",
       "      <th>Profit</th>\n",
       "      <th>Property Color</th>\n",
       "    </tr>\n",
       "  </thead>\n",
       "  <tbody>\n",
       "    <tr>\n",
       "      <th>0</th>\n",
       "      <td>Shawn</td>\n",
       "      <td>Boardwalk</td>\n",
       "      <td>425.0</td>\n",
       "      <td>-25.0</td>\n",
       "      <td>Dark Blue</td>\n",
       "    </tr>\n",
       "    <tr>\n",
       "      <th>1</th>\n",
       "      <td>Amanda</td>\n",
       "      <td>Park Place</td>\n",
       "      <td>375.0</td>\n",
       "      <td>25.0</td>\n",
       "      <td>Dark Blue</td>\n",
       "    </tr>\n",
       "    <tr>\n",
       "      <th>2</th>\n",
       "      <td>Neil</td>\n",
       "      <td>Marvin Gardens</td>\n",
       "      <td>200.0</td>\n",
       "      <td>50.0</td>\n",
       "      <td>Yellow</td>\n",
       "    </tr>\n",
       "    <tr>\n",
       "      <th>3</th>\n",
       "      <td>Shawn</td>\n",
       "      <td>Pennsylvania Ave</td>\n",
       "      <td>150.0</td>\n",
       "      <td>-100.0</td>\n",
       "      <td>Green</td>\n",
       "    </tr>\n",
       "    <tr>\n",
       "      <th>4</th>\n",
       "      <td>Annie</td>\n",
       "      <td>Oriental Ave</td>\n",
       "      <td>50.0</td>\n",
       "      <td>0.0</td>\n",
       "      <td>Light Blue</td>\n",
       "    </tr>\n",
       "    <tr>\n",
       "      <th>5</th>\n",
       "      <td>Amanda</td>\n",
       "      <td>Baltic Ave</td>\n",
       "      <td>60.0</td>\n",
       "      <td>0.0</td>\n",
       "      <td>Purple</td>\n",
       "    </tr>\n",
       "  </tbody>\n",
       "</table>\n",
       "</div>"
      ],
      "text/plain": [
       "   Player          Property  Income Generated  Profit Property Color\n",
       "0   Shawn         Boardwalk             425.0   -25.0      Dark Blue\n",
       "1  Amanda        Park Place             375.0    25.0      Dark Blue\n",
       "2    Neil    Marvin Gardens             200.0    50.0         Yellow\n",
       "3   Shawn  Pennsylvania Ave             150.0  -100.0          Green\n",
       "4   Annie      Oriental Ave              50.0     0.0     Light Blue\n",
       "5  Amanda        Baltic Ave              60.0     0.0         Purple"
      ]
     },
     "execution_count": 16,
     "metadata": {},
     "output_type": "execute_result"
    }
   ],
   "source": [
    "merged_df = pd.DataFrame({\"Player\": [\"Shawn\", \"Amanda\", \"Neil\", \"Shawn\", \"Annie\", \"Amanda\"],\n",
    "                          \"Property\": [\"Boardwalk\", \"Park Place\", \"Marvin Gardens\", \"Pennsylvania Ave\", \"Oriental Ave\", \"Baltic Ave\"],\n",
    "                          \"Income Generated\": [425., 375., 200., 150., 50., 60.],\n",
    "                          \"Profit\": [-25., 25., 50., -100., 0., 0.],\n",
    "                          \"Property Color\": [\"Dark Blue\", \"Dark Blue\", \"Yellow\", \"Green\", \"Light Blue\", \"Purple\"]})\n",
    "merged_df"
   ]
  },
  {
   "cell_type": "markdown",
   "metadata": {
    "id": "AyKywMcAdiCe"
   },
   "source": [
    "Shawn decides he will now only buy properties from a color group that he deems “profitable.” He deems a color group “profitable” if at least 50% of the properties in the group that are currently owned by players have made a positive (non-zero) profit for those players.\n",
    "\n",
    "**Fill in the following lines of code** to help him display a `DataFrame` with a subset of the rows in `merged_df`: the rows with properties that belong to profitable color groups.\n",
    "Your solution may use fewer lines of code than we provide."
   ]
  },
  {
   "cell_type": "code",
   "execution_count": 17,
   "metadata": {
    "id": "nTH_MvV4c0QA"
   },
   "outputs": [
    {
     "data": {
      "text/html": [
       "<div>\n",
       "<style scoped>\n",
       "    .dataframe tbody tr th:only-of-type {\n",
       "        vertical-align: middle;\n",
       "    }\n",
       "\n",
       "    .dataframe tbody tr th {\n",
       "        vertical-align: top;\n",
       "    }\n",
       "\n",
       "    .dataframe thead th {\n",
       "        text-align: right;\n",
       "    }\n",
       "</style>\n",
       "<table border=\"1\" class=\"dataframe\">\n",
       "  <thead>\n",
       "    <tr style=\"text-align: right;\">\n",
       "      <th></th>\n",
       "      <th>Player</th>\n",
       "      <th>Property</th>\n",
       "      <th>Income Generated</th>\n",
       "      <th>Profit</th>\n",
       "      <th>Property Color</th>\n",
       "    </tr>\n",
       "  </thead>\n",
       "  <tbody>\n",
       "    <tr>\n",
       "      <th>0</th>\n",
       "      <td>Shawn</td>\n",
       "      <td>Boardwalk</td>\n",
       "      <td>425.0</td>\n",
       "      <td>-25.0</td>\n",
       "      <td>Dark Blue</td>\n",
       "    </tr>\n",
       "    <tr>\n",
       "      <th>1</th>\n",
       "      <td>Amanda</td>\n",
       "      <td>Park Place</td>\n",
       "      <td>375.0</td>\n",
       "      <td>25.0</td>\n",
       "      <td>Dark Blue</td>\n",
       "    </tr>\n",
       "    <tr>\n",
       "      <th>2</th>\n",
       "      <td>Neil</td>\n",
       "      <td>Marvin Gardens</td>\n",
       "      <td>200.0</td>\n",
       "      <td>50.0</td>\n",
       "      <td>Yellow</td>\n",
       "    </tr>\n",
       "  </tbody>\n",
       "</table>\n",
       "</div>"
      ],
      "text/plain": [
       "   Player        Property  Income Generated  Profit Property Color\n",
       "0   Shawn       Boardwalk             425.0   -25.0      Dark Blue\n",
       "1  Amanda      Park Place             375.0    25.0      Dark Blue\n",
       "2    Neil  Marvin Gardens             200.0    50.0         Yellow"
      ]
     },
     "execution_count": 17,
     "metadata": {},
     "output_type": "execute_result"
    }
   ],
   "source": [
    "def func(group):\n",
    "    if np.mean(group[\"Profit\"] > 0) >= 0.5:\n",
    "        return True\n",
    "    return False\n",
    "\n",
    "merged_df.groupby(\"Property Color\").filter(func)"
   ]
  }
 ],
 "metadata": {
  "colab": {
   "provenance": []
  },
  "kernelspec": {
   "display_name": "data100quarto",
   "language": "python",
   "name": "python3"
  },
  "language_info": {
   "codemirror_mode": {
    "name": "ipython",
    "version": 3
   },
   "file_extension": ".py",
   "mimetype": "text/x-python",
   "name": "python",
   "nbconvert_exporter": "python",
   "pygments_lexer": "ipython3",
   "version": "3.13.1"
  }
 },
 "nbformat": 4,
 "nbformat_minor": 4
}
